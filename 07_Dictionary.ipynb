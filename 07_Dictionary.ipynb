{
  "nbformat": 4,
  "nbformat_minor": 0,
  "metadata": {
    "colab": {
      "provenance": [],
      "authorship_tag": "ABX9TyM5R3fxvmrMrGaIyLm/8hR1",
      "include_colab_link": true
    },
    "kernelspec": {
      "name": "python3",
      "display_name": "Python 3"
    },
    "language_info": {
      "name": "python"
    }
  },
  "cells": [
    {
      "cell_type": "markdown",
      "metadata": {
        "id": "view-in-github",
        "colab_type": "text"
      },
      "source": [
        "<a href=\"https://colab.research.google.com/github/ErickBorgesGalindo/Python_Class/blob/main/07_Dictionary.ipynb\" target=\"_parent\"><img src=\"https://colab.research.google.com/assets/colab-badge.svg\" alt=\"Open In Colab\"/></a>"
      ]
    },
    {
      "cell_type": "markdown",
      "source": [
        "<h1><b>Diccionario</b></h1>\n",
        "Es una colección deshordenada, modificables y emperajados"
      ],
      "metadata": {
        "id": "C8gVyFGwRnoF"
      }
    },
    {
      "cell_type": "code",
      "execution_count": null,
      "metadata": {
        "id": "Gdc4mpFxIi6W"
      },
      "outputs": [],
      "source": [
        "my_dict = dict()\n",
        "other_dict = {}\n",
        "print(type(my_dict))\n",
        "print(type(other_dict))"
      ]
    },
    {
      "cell_type": "markdown",
      "source": [
        "Una de las características más importantes de los diccionarios es que estan ***emparejados***, lo cual significa que siempre se van a componer de una **llave** y un **valor**\n",
        "\n",
        "key:value"
      ],
      "metadata": {
        "id": "E8bewSnqSWFH"
      }
    },
    {
      "cell_type": "code",
      "source": [
        "person = {\n",
        "    'name': 'Erick',\n",
        "    'last_name': 'Borges',\n",
        "    'age': 23,\n",
        "    'skills': ['JavaScript', 'React', 'Python', 'Swift'],\n",
        "    'address': {\n",
        "        'street': 'Fco. I. Madero',\n",
        "        'telefono': 782123456\n",
        "    }\n",
        "}\n",
        "\n",
        "print(person)"
      ],
      "metadata": {
        "id": "Ts83hvQKSva4",
        "colab": {
          "base_uri": "https://localhost:8080/"
        },
        "outputId": "575b3a95-b04e-4da2-818e-8cf2f6608a2c"
      },
      "execution_count": null,
      "outputs": [
        {
          "output_type": "stream",
          "name": "stdout",
          "text": [
            "{'name': 'Erick', 'last_name': 'Borges', 'age': 23, 'skills': ['JavaScript', 'React', 'Python', 'Swift'], 'address': {'street': 'Fco. I. Madero', 'telefono': 782123456}}\n"
          ]
        }
      ]
    },
    {
      "cell_type": "markdown",
      "source": [
        "<b>Calcular longitud</b>"
      ],
      "metadata": {
        "id": "QH5U-hObTAOR"
      }
    },
    {
      "cell_type": "code",
      "source": [
        "print(len(person))"
      ],
      "metadata": {
        "id": "aAtQ2uz4TD94",
        "colab": {
          "base_uri": "https://localhost:8080/"
        },
        "outputId": "247c128a-f337-4f16-dd24-9679e64e397f"
      },
      "execution_count": null,
      "outputs": [
        {
          "output_type": "stream",
          "name": "stdout",
          "text": [
            "5\n"
          ]
        }
      ]
    },
    {
      "cell_type": "markdown",
      "source": [
        "<b>Acceder a los elementos</b>\n"
      ],
      "metadata": {
        "id": "LllvzXMxT2ac"
      }
    },
    {
      "cell_type": "code",
      "source": [
        "print(person['name'])\n",
        "print(type(person['name']))\n",
        "\n",
        "print(person['last_name'])\n",
        "print(type(person['last_name']))\n",
        "\n",
        "print(person['skills'])\n",
        "print(type(person['skills']))\n",
        "\n",
        "print(person['address'])\n",
        "print(type(person['address']))"
      ],
      "metadata": {
        "id": "rZlptqCJUC82"
      },
      "execution_count": null,
      "outputs": []
    },
    {
      "cell_type": "code",
      "source": [
        "print(person.get('name')) \n",
        "print(person.get('country'))\n",
        "print(person.get('skills'))\n",
        "print(person.get('city'))"
      ],
      "metadata": {
        "id": "cN4wOLXRUwfn"
      },
      "execution_count": null,
      "outputs": []
    },
    {
      "cell_type": "markdown",
      "source": [
        "<b>Agregar nuevos campos</b>"
      ],
      "metadata": {
        "id": "fe_YZ20pVAdR"
      }
    },
    {
      "cell_type": "code",
      "source": [
        "print(person)\n",
        "person['Country'] = 'Poza Rica'\n",
        "print(person)"
      ],
      "metadata": {
        "id": "ZoFuTeP_VDC5"
      },
      "execution_count": null,
      "outputs": []
    },
    {
      "cell_type": "markdown",
      "source": [
        "<b>Modificar campos</b>"
      ],
      "metadata": {
        "id": "fezO2mW1VoJ7"
      }
    },
    {
      "cell_type": "code",
      "source": [
        "print(person)\n",
        "person['last_name'] = 'Galindo'\n",
        "print(person)"
      ],
      "metadata": {
        "id": "jhOT36DSVqVd"
      },
      "execution_count": null,
      "outputs": []
    },
    {
      "cell_type": "markdown",
      "source": [
        "<b>Verificar llaves</b>"
      ],
      "metadata": {
        "id": "xKRmXSIpV6jt"
      }
    },
    {
      "cell_type": "code",
      "source": [
        "print('name' in person)\n",
        "print('marital_status' in person)"
      ],
      "metadata": {
        "id": "tbzExUfpV9-i"
      },
      "execution_count": null,
      "outputs": []
    },
    {
      "cell_type": "markdown",
      "source": [
        "<b>Analizar todas las llaves existentes</b>"
      ],
      "metadata": {
        "id": "q_-rFGlsWMLW"
      }
    },
    {
      "cell_type": "code",
      "source": [
        "print(person.keys())"
      ],
      "metadata": {
        "id": "JtkrB1WfWhHa"
      },
      "execution_count": null,
      "outputs": []
    },
    {
      "cell_type": "markdown",
      "source": [
        "<b>Analizar todos los valores existentes</b>"
      ],
      "metadata": {
        "id": "ifbRAR6HWblR"
      }
    },
    {
      "cell_type": "code",
      "source": [
        "print(person.values())"
      ],
      "metadata": {
        "id": "l-Ab_vhfWPtY",
        "colab": {
          "base_uri": "https://localhost:8080/"
        },
        "outputId": "89b8cb6f-ad99-419a-8d99-ac809bf49692"
      },
      "execution_count": null,
      "outputs": [
        {
          "output_type": "stream",
          "name": "stdout",
          "text": [
            "dict_values(['Erick', 'Galindo', 23, ['JavaScript', 'React', 'Python', 'Swift'], {'street': 'Fco. I. Madero', 'telefono': 782123456}, 'Poza Rica'])\n"
          ]
        }
      ]
    }
  ]
}