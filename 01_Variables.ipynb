{
  "nbformat": 4,
  "nbformat_minor": 0,
  "metadata": {
    "colab": {
      "provenance": [],
      "authorship_tag": "ABX9TyNzr7BEd6nSr9le8uqVAOXE",
      "include_colab_link": true
    },
    "kernelspec": {
      "name": "python3",
      "display_name": "Python 3"
    },
    "language_info": {
      "name": "python"
    }
  },
  "cells": [
    {
      "cell_type": "markdown",
      "metadata": {
        "id": "view-in-github",
        "colab_type": "text"
      },
      "source": [
        "<a href=\"https://colab.research.google.com/github/ErickBorgesGalindo/Python_Class/blob/main/01_Variables.ipynb\" target=\"_parent\"><img src=\"https://colab.research.google.com/assets/colab-badge.svg\" alt=\"Open In Colab\"/></a>"
      ]
    },
    {
      "cell_type": "markdown",
      "source": [
        "![Captura de pantalla 2023-01-26 a la(s) 12.35.01.png](data:image/png;base64,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)"
      ],
      "metadata": {
        "id": "9ykZ0V5BWgTw"
      }
    },
    {
      "cell_type": "markdown",
      "source": [
        "En programación existen <b>variables</b>, estas son usadas para asignar valores a la información que tenemos. Cada variable tiene un nombre y contiene un tipo específico de valor"
      ],
      "metadata": {
        "id": "A4OTLAamVQHz"
      }
    },
    {
      "cell_type": "code",
      "execution_count": null,
      "metadata": {
        "id": "TPkaVfO2VNc1"
      },
      "outputs": [],
      "source": [
        "name = 'Erick Borges'\n",
        "user_id = 1234567\n",
        "progress = 0.75\n",
        "exp = 60\n",
        "verified = True #Bool / Booleano"
      ]
    },
    {
      "cell_type": "markdown",
      "source": [
        "El valor de una variable se puede reasignar, sin embargo recordemos que siempre tomará como valor definitivo el ultimo en asignarsele"
      ],
      "metadata": {
        "id": "A9GSeK3NYE2J"
      }
    },
    {
      "cell_type": "code",
      "source": [
        "xp = True\n",
        "xp = False\n",
        "\n",
        "print(xp)"
      ],
      "metadata": {
        "id": "Z0KBJwaPWgI0",
        "colab": {
          "base_uri": "https://localhost:8080/"
        },
        "outputId": "63ca0fd2-6db0-48c4-b8d5-ee12e77edcb1"
      },
      "execution_count": null,
      "outputs": [
        {
          "output_type": "stream",
          "name": "stdout",
          "text": [
            "True\n"
          ]
        }
      ]
    },
    {
      "cell_type": "markdown",
      "source": [
        "<h2><b>BUENAS PRAXIS</b></h2>\n",
        "\n",
        "\n",
        "*   Escribir todo en minúscula.\n",
        "*   Si se compone de dos palabras, usar _ para separarlas\n",
        "*   No usar -, @, $\n",
        "*   No usar números.\n",
        "\n",
        "<p>🚫 MyVariable</p> \n",
        "<p>✅ my_variable</p>\n"
      ],
      "metadata": {
        "id": "xCc52ZhQhyYD"
      }
    },
    {
      "cell_type": "markdown",
      "source": [
        "![Captura de pantalla 2023-01-26 a la(s) 12.42.45.png](data:image/png;base64,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)"
      ],
      "metadata": {
        "id": "et1V0mVSY8MW"
      }
    },
    {
      "cell_type": "markdown",
      "source": [
        "![Captura de pantalla 2023-01-26 a la(s) 12.44.04.png](data:image/png;base64,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)"
      ],
      "metadata": {
        "id": "LHC2bM5QY_7h"
      }
    },
    {
      "cell_type": "markdown",
      "source": [
        "El tipo de dato ***integer*** o ***entero*** o simplemente ***int*** hacer referencia a un valor numérico, dicho valor no permite almacenar números decimales sin embargo nos permite alojar números positivos y negativos"
      ],
      "metadata": {
        "id": "kpbkdeaNZTOi"
      }
    },
    {
      "cell_type": "code",
      "source": [
        "year = 2023\n",
        "age = True"
      ],
      "metadata": {
        "id": "ZxYKYKY9Z1q8"
      },
      "execution_count": null,
      "outputs": []
    },
    {
      "cell_type": "markdown",
      "source": [
        "![Captura de pantalla 2023-01-26 a la(s) 12.47.15.png](data:image/png;base64,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)"
      ],
      "metadata": {
        "id": "RnCtmH7kaCaM"
      }
    },
    {
      "cell_type": "markdown",
      "source": [
        "El dato ***flotante*** o ***Punto flotante*** es aquel que hace referencia a un valor númerico el cual SÍ permite números decimales"
      ],
      "metadata": {
        "id": "QDY_tmeiaEx9"
      }
    },
    {
      "cell_type": "code",
      "source": [
        "pi = 3.141592\n",
        "apple_cost = 12.99"
      ],
      "metadata": {
        "id": "d8NcwTByaUID"
      },
      "execution_count": null,
      "outputs": []
    },
    {
      "cell_type": "markdown",
      "source": [
        "![Captura de pantalla 2023-01-26 a la(s) 12.47.24.png](data:image/png;base64,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)"
      ],
      "metadata": {
        "id": "S9HC0TEKbNs6"
      }
    },
    {
      "cell_type": "markdown",
      "source": [
        "Los <b>Strings</b> o <b>Cadenas</b> es un tipo de dato que nos permite alojar textos, estos se deben de poner siempre entre comillas ya lean dobles \" \" o comillas simples ' '"
      ],
      "metadata": {
        "id": "OMk6QynqbdEw"
      }
    },
    {
      "cell_type": "code",
      "source": [
        "message = \"Saludos a todos\"\n",
        "user = '@ErickBorges'"
      ],
      "metadata": {
        "id": "T8GIayE_b_mR"
      },
      "execution_count": null,
      "outputs": []
    },
    {
      "cell_type": "markdown",
      "source": [
        "![Captura de pantalla 2023-01-26 a la(s) 12.47.32.png](data:image/png;base64,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)"
      ],
      "metadata": {
        "id": "5jo0fOdocHwJ"
      }
    },
    {
      "cell_type": "markdown",
      "source": [
        "Los boleanos almacenan valores que pueden ser únicamente **verdaderos** o **falsos**. En python escribimos con mayúscula la inicial del valor."
      ],
      "metadata": {
        "id": "xGobPh_qcKwk"
      }
    },
    {
      "cell_type": "code",
      "source": [
        "approved = False\n",
        "late_to_class = True"
      ],
      "metadata": {
        "id": "OeEGjSilccSq"
      },
      "execution_count": null,
      "outputs": []
    },
    {
      "cell_type": "markdown",
      "source": [
        "![Captura de pantalla 2023-01-26 a la(s) 13.09.47.png](data:image/png;base64,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)"
      ],
      "metadata": {
        "id": "pbZ4CKOvfB6D"
      }
    },
    {
      "cell_type": "code",
      "source": [
        "#Esto es un comentario en nuestro código.\n",
        "\n",
        "print('Hola mundo')\n",
        "\n",
        "'''\n",
        "Este es un comentario de varias lineas\n",
        "Se pone usando tres pares comillas dobles.\n",
        "'''"
      ],
      "metadata": {
        "id": "7BYkgzHLfMXU"
      },
      "execution_count": null,
      "outputs": []
    },
    {
      "cell_type": "markdown",
      "source": [
        "<h2><b>Concatenación</b></h2>"
      ],
      "metadata": {
        "id": "DnnkhEKaxaXl"
      }
    },
    {
      "cell_type": "code",
      "source": [
        "print(name, age, verified)"
      ],
      "metadata": {
        "id": "B0mpbD1BxkGS"
      },
      "execution_count": null,
      "outputs": []
    },
    {
      "cell_type": "code",
      "source": [
        "print(\"Este es un texto: \", verified)"
      ],
      "metadata": {
        "id": "qkkXGTBoyZTj"
      },
      "execution_count": null,
      "outputs": []
    },
    {
      "cell_type": "markdown",
      "source": [
        "<h2> <b> Imprimir el tipo de dato </b> </h2>\n",
        "\n"
      ],
      "metadata": {
        "id": "2g_HYIiFfL6Y"
      }
    },
    {
      "cell_type": "code",
      "source": [
        "print(type('hola mundo')) \n",
        "print(type(5))\n",
        "print(type(1.5))\n",
        "print(type(True))\n",
        "print(type(3 + 1j))\n",
        "print(type([1, 2, 3]))\n",
        "print(type({name: 'Erick'}))"
      ],
      "metadata": {
        "id": "aU36YerGfkfP"
      },
      "execution_count": null,
      "outputs": []
    },
    {
      "cell_type": "markdown",
      "source": [
        "<h2><b>Variables en una sola linea</b></h2>"
      ],
      "metadata": {
        "id": "kJkrewdNzQU2"
      }
    },
    {
      "cell_type": "code",
      "source": [
        "name, surname, alias, age = \"Erick\", \"Borges\", \"Alecs\", 23\n",
        "\n",
        "print(\"Me llamo:\", name, surname)\n",
        "print(\"Mi edad es:\", age, \", Mis amigos me dicen:\", alias)"
      ],
      "metadata": {
        "id": "7DInPprjzXCH"
      },
      "execution_count": null,
      "outputs": []
    },
    {
      "cell_type": "markdown",
      "source": [
        "<h2><b>Asignar valor a variables por el usuario</b></h2>"
      ],
      "metadata": {
        "id": "J4AGtdqT1jSP"
      }
    },
    {
      "cell_type": "code",
      "source": [
        "first_name = (input('¿Cómo te llamas? 😄'))\n",
        "age = (input('¿Cuántos años tienes?'))\n",
        "\n",
        "print(first_name, age)"
      ],
      "metadata": {
        "id": "cZyvqKNU1plW"
      },
      "execution_count": null,
      "outputs": []
    },
    {
      "cell_type": "markdown",
      "source": [
        "<h2><b>Funciones del sistema</b></h2>\n"
      ],
      "metadata": {
        "id": "hIksPtYtvswK"
      }
    },
    {
      "cell_type": "markdown",
      "source": [
        "print() = Imprime en pantalla </br>\n",
        "type() = nos da el tipo de dato a trabajar </br>\n",
        "len() = </br>\n",
        "str() = </br>\n"
      ],
      "metadata": {
        "id": "YkBQiUNvwIyb"
      }
    },
    {
      "cell_type": "code",
      "source": [
        "print(len(name))"
      ],
      "metadata": {
        "id": "4p3AWbOWwKgC"
      },
      "execution_count": null,
      "outputs": []
    },
    {
      "cell_type": "code",
      "source": [
        "my_int_variable = 4\n",
        "print(my_int_variable)\n",
        "print(type(my_int_variable))\n",
        "\n",
        "new_variable = str(my_int_variable)\n",
        "print(new_variable)\n",
        "print(type(new_variable))"
      ],
      "metadata": {
        "id": "UhwsZoDFw1eD"
      },
      "execution_count": null,
      "outputs": []
    }
  ]
}