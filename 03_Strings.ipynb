{
  "nbformat": 4,
  "nbformat_minor": 0,
  "metadata": {
    "colab": {
      "provenance": [],
      "authorship_tag": "ABX9TyNbk1sCndiy4to0LFXajqqY",
      "include_colab_link": true
    },
    "kernelspec": {
      "name": "python3",
      "display_name": "Python 3"
    },
    "language_info": {
      "name": "python"
    }
  },
  "cells": [
    {
      "cell_type": "markdown",
      "metadata": {
        "id": "view-in-github",
        "colab_type": "text"
      },
      "source": [
        "<a href=\"https://colab.research.google.com/github/ErickBorgesGalindo/Python_Class/blob/main/03_Strings.ipynb\" target=\"_parent\"><img src=\"https://colab.research.google.com/assets/colab-badge.svg\" alt=\"Open In Colab\"/></a>"
      ]
    },
    {
      "cell_type": "markdown",
      "source": [
        "![Captura de pantalla 2023-01-26 a la(s) 12.47.24.png](data:image/png;base64,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)"
      ],
      "metadata": {
        "id": "LfreqADEMjP6"
      }
    },
    {
      "cell_type": "markdown",
      "source": [
        "Son el tipo de dato que incluye Textos. Cualquier información escrita como un texto es considerado como un \"String\"."
      ],
      "metadata": {
        "id": "M-ffiJgiOhCv"
      }
    },
    {
      "cell_type": "code",
      "source": [
        "letra = 'P'                 # Una sola letra puede considerarse un String\n",
        "print(letra)              \n",
        "print(len(letra))           # Podemos calcular su longitud\n",
        "saludo = 'Hello, World!'    # Un string puede ser una palabra o varias.\n",
        "print(saludo)               # Hello, World!\n",
        "print(len(saludo))          # 13\n",
        "oracion = \"I hope you are enjoying 30 days of Python Challenge\"\n",
        "print(oracion)\n",
        "print(len(oracion))"
      ],
      "metadata": {
        "id": "rC61w0vIOfoy"
      },
      "execution_count": null,
      "outputs": []
    },
    {
      "cell_type": "markdown",
      "source": [
        "También podemos crear Strings multilineas haciendo uso de tres comillas simples(''') o tres pares de comillas dobles(\"\"\")"
      ],
      "metadata": {
        "id": "VRm14eTFPIrp"
      }
    },
    {
      "cell_type": "code",
      "source": [
        "multiline_string = '''Pac Man originalmente se llamaba Puck Man. \n",
        "Lo cambiaron no porque Pac-Man fuera redondo. \n",
        "Paku paku significa abrir y cerrar la boca y tuvieron miedo de que la gente tachara la 'P' y \n",
        "la convirtiera en 'F'.'''\n",
        "print(multiline_string)\n",
        "\n",
        "# Otra forma de hacer exactamente lo mismo\n",
        "multiline_string = \"\"\"Pac Man originalmente se llamaba Puck Man. \n",
        "Lo cambiaron no porque Pac-Man fuera redondo. \n",
        "Paku paku significa abrir y cerrar la boca y tuvieron miedo de que la gente tachara la 'P' y \n",
        "la convirtiera en 'F'.\"\"\"\n",
        "print(multiline_string)"
      ],
      "metadata": {
        "id": "-Xh_nmmePWTB"
      },
      "execution_count": null,
      "outputs": []
    },
    {
      "cell_type": "markdown",
      "source": [
        "<h2><b>Secuencias de escape</b></h2>"
      ],
      "metadata": {
        "id": "MKqdkgoZQP81"
      }
    },
    {
      "cell_type": "markdown",
      "source": [
        "* \\n: Linea nueva\n",
        "* \\t: Tabulación (8 espacios)\n",
        "* \\\\: Back slash\n",
        "* \\': Single quote (')\n",
        "* \\\": Double quote (\")\n",
        "\n",
        "\n"
      ],
      "metadata": {
        "id": "_k_zox-JQd5J"
      }
    },
    {
      "cell_type": "code",
      "source": [
        "print('Este es un ejemplo de salto de linea.\\n¿Lo notas?') # line break\n",
        "print('Día\\tTemas\\tEjercicios') # Agregando una tabulación\n",
        "print('Dia 1\\t3\\t5')\n",
        "print('Dia 2\\t3\\t5')\n",
        "print('Dia 3\\t3\\t5')\n",
        "print('Dia 4\\t3\\t5')\n",
        "print('Este es un simbolo backslash (\\\\)') # Para escribir un backslash\n",
        "print('In every programming language it starts with \\\"Hello, World!\\\"') # Para escribir comillas dentro de comillas"
      ],
      "metadata": {
        "id": "3-4IwMovQjy2"
      },
      "execution_count": null,
      "outputs": []
    },
    {
      "cell_type": "markdown",
      "source": [
        "<h2><b>Strings con Variables </b></h2>"
      ],
      "metadata": {
        "id": "lQSwBnfHSYlH"
      }
    },
    {
      "cell_type": "code",
      "source": [
        "name, surname, alias, age = \"Erick\", \"Borges\", \"Alecs\", 23\n",
        "\n",
        "print(\"Me llamo:\", name, surname)\n",
        "print(\"Mi edad es:\", age, \", Mis amigos me dicen:\", alias)"
      ],
      "metadata": {
        "id": "Kkqsji6EShW6"
      },
      "execution_count": null,
      "outputs": []
    },
    {
      "cell_type": "code",
      "source": [
        "print(\"Mi nombre es {} {} y mi edad es {}\".format(name, surname, age))\n",
        "print(\"Mi nombre es %s %s y mi edad es %d\" %(name, surname, age))\n",
        "print(f\"Mi nombre es {name} {surname} y mi edad es {age}\") #Esta es la mejor, la más aceptada"
      ],
      "metadata": {
        "id": "yPIdPjGJSimn"
      },
      "execution_count": null,
      "outputs": []
    },
    {
      "cell_type": "markdown",
      "source": [
        "<h2><b>Strings como secuencia de caracteres </b></h2>"
      ],
      "metadata": {
        "id": "E_kp8GUCTqHO"
      }
    },
    {
      "cell_type": "markdown",
      "source": [
        "Los strings son secuencias de letras unidas que forman palabras. Tenemos distintas maneras de descomponer un string en cada una de sus unidades, sin embaro la manera mas simple de extraer cada miembro de un string es desempaquetarlo en distintas variables"
      ],
      "metadata": {
        "id": "fJuwFKsYTskc"
      }
    },
    {
      "cell_type": "code",
      "source": [
        "lenguaje = 'Python'\n",
        "a,b,c,d,e,f = lenguaje\n",
        "print(a)\n",
        "print(b)\n",
        "print(c)\n",
        "print(d)\n",
        "print(e)\n",
        "print(f)"
      ],
      "metadata": {
        "id": "KvxV6JBxT8V0"
      },
      "execution_count": null,
      "outputs": []
    },
    {
      "cell_type": "code",
      "source": [
        "primer_letra = lenguaje[0]\n",
        "segunda_letra = lenguaje[1]\n",
        "tercer_letra = lenguaje[2]\n",
        "print(primer_letra)\n",
        "print(segunda_letra)\n",
        "print(tercer_letra)"
      ],
      "metadata": {
        "id": "Ejv_ecSEUKcK"
      },
      "execution_count": null,
      "outputs": []
    },
    {
      "cell_type": "markdown",
      "source": [
        "<h2><b>Recortando Strings </b></h2>"
      ],
      "metadata": {
        "id": "wxvyWfLcUth9"
      }
    },
    {
      "cell_type": "code",
      "source": [
        "lenguaje = 'Python'\n",
        "primeros_tres = lenguaje[0:3] # starts at zero index and up to 3 but not include 3\n",
        "print(primeros_tres) #Pyt\n",
        "\n",
        "ultimos_tres = lenguaje[3:6]\n",
        "print(ultimos_tres) # hon\n",
        "\n",
        "# Otra forma PYTHON\n",
        "ultimos_tres = lenguaje[-3:]\n",
        "print(ultimos_tres)   # hon\n",
        "primeros_tres = lenguaje[:-3]\n",
        "print(primeros_tres)   # hon"
      ],
      "metadata": {
        "id": "3V45fbjkUwAG"
      },
      "execution_count": null,
      "outputs": []
    },
    {
      "cell_type": "markdown",
      "source": [
        "<h2><b>Invirtiendo Strings </b></h2>"
      ],
      "metadata": {
        "id": "hEUDYodAVBji"
      }
    },
    {
      "cell_type": "code",
      "source": [
        "saludo = 'Hello, World!'\n",
        "print(saludo[::-1])"
      ],
      "metadata": {
        "id": "2eXglTdSVGml"
      },
      "execution_count": null,
      "outputs": []
    },
    {
      "cell_type": "markdown",
      "source": [
        "<h2><b>Saltando letras</b></h2>\n",
        "\n"
      ],
      "metadata": {
        "id": "te6DnCJxVTUL"
      }
    },
    {
      "cell_type": "code",
      "source": [
        "lenguaje = 'Python'\n",
        "new = lenguaje[0:6:2]\n",
        "print(new)"
      ],
      "metadata": {
        "id": "H-HBnzkoVOxC",
        "colab": {
          "base_uri": "https://localhost:8080/"
        },
        "outputId": "6132c7c2-78af-406f-f847-e17da5647419"
      },
      "execution_count": null,
      "outputs": [
        {
          "output_type": "stream",
          "name": "stdout",
          "text": [
            "Pto\n"
          ]
        }
      ]
    },
    {
      "cell_type": "markdown",
      "source": [
        "<h2><b>Métodos con Strings</b></h2>\n"
      ],
      "metadata": {
        "id": "bst5HGwOVzwJ"
      }
    },
    {
      "cell_type": "markdown",
      "source": [
        "<h3><b>Convertir la primer letra en mayúscula</b></h3>"
      ],
      "metadata": {
        "id": "xt4jOHCEV2EG"
      }
    },
    {
      "cell_type": "code",
      "source": [
        "text = 'aprendiendo'+'python'+'en'+'clase'\n",
        "print(type(text))\n",
        "text = 'aprendiendo python en clase'\n",
        "print(type(text))\n",
        "print(text.capitalize())"
      ],
      "metadata": {
        "id": "wBPS-z_wV91i",
        "colab": {
          "base_uri": "https://localhost:8080/"
        },
        "outputId": "26dfd6f7-e29c-4482-9aed-62fabc9f3dc5"
      },
      "execution_count": null,
      "outputs": [
        {
          "output_type": "stream",
          "name": "stdout",
          "text": [
            "Aprendiendo python en clase\n"
          ]
        }
      ]
    },
    {
      "cell_type": "markdown",
      "source": [
        "<h3><b>Contar las veces que se repite un caracter</b></h3>\n",
        "\n"
      ],
      "metadata": {
        "id": "WIgdxu6tWKvW"
      }
    },
    {
      "cell_type": "code",
      "source": [
        "text = 'aprendiendo python en clase'\n",
        "print(text.count('a'))\n",
        "print(text.count('y', 7, 14)) \n",
        "print(text.count('en'))"
      ],
      "metadata": {
        "id": "Al34A3w9WZbt"
      },
      "execution_count": null,
      "outputs": []
    },
    {
      "cell_type": "markdown",
      "source": [
        "<h3><b>Regresa la posición donde se encuentre el caracter</b></h3>\n",
        "Si no se encuentra regresa -1"
      ],
      "metadata": {
        "id": "BQHoeSaMW6KI"
      }
    },
    {
      "cell_type": "code",
      "source": [
        "text = 'aprendiendo python en clase'\n",
        "print(text.find('y'))\n",
        "print(text.find('th'))\n",
        "print(text.find('am'))"
      ],
      "metadata": {
        "id": "5XlwpTeeXCQo"
      },
      "execution_count": null,
      "outputs": []
    },
    {
      "cell_type": "markdown",
      "source": [
        "<h1><b>ACTIVIDAD</b></h1>\n",
        "\n",
        "Genera palindromos y comprueba que efectivamente lo son"
      ],
      "metadata": {
        "id": "P1Ru1kEUXcE9"
      }
    }
  ]
}