{
  "nbformat": 4,
  "nbformat_minor": 0,
  "metadata": {
    "colab": {
      "provenance": [],
      "authorship_tag": "ABX9TyPnmZO8O+0eWlr2dD/pfHD7",
      "include_colab_link": true
    },
    "kernelspec": {
      "name": "python3",
      "display_name": "Python 3"
    },
    "language_info": {
      "name": "python"
    }
  },
  "cells": [
    {
      "cell_type": "markdown",
      "metadata": {
        "id": "view-in-github",
        "colab_type": "text"
      },
      "source": [
        "<a href=\"https://colab.research.google.com/github/ErickBorgesGalindo/Python_Class/blob/main/00_Hola_Mundo.ipynb\" target=\"_parent\"><img src=\"https://colab.research.google.com/assets/colab-badge.svg\" alt=\"Open In Colab\"/></a>"
      ]
    },
    {
      "cell_type": "code",
      "source": [
        "print(\"Hola mundo\")"
      ],
      "metadata": {
        "colab": {
          "base_uri": "https://localhost:8080/"
        },
        "id": "8YYk-oQcnmL-",
        "outputId": "d37892c7-93c8-474b-f75b-40af15a04cc9"
      },
      "execution_count": null,
      "outputs": [
        {
          "output_type": "stream",
          "name": "stdout",
          "text": [
            "Hola mundo\n"
          ]
        }
      ]
    },
    {
      "cell_type": "markdown",
      "source": [
        "<h1><b>Primer programa</b></h1>\n",
        "<p>Este es un parrafo</p>\n",
        "✊\n"
      ],
      "metadata": {
        "id": "oiHet9TYoSeZ"
      }
    },
    {
      "cell_type": "code",
      "source": [
        "print(\"Primeramente podemos ver que no necesitamos declarar variables\")\n",
        "numero1=int(input(\"Ingrese numero uno \"))\n",
        "numero2=int(input(\"Ingrese numero dos \"))\n",
        "suma=numero1+numero2\n",
        "print(f\"la suma es: {suma}\")"
      ],
      "metadata": {
        "colab": {
          "base_uri": "https://localhost:8080/"
        },
        "id": "kmcntVGippVO",
        "outputId": "d573cc52-bf3f-4c81-eabc-8b1e8bbcde76"
      },
      "execution_count": null,
      "outputs": [
        {
          "output_type": "stream",
          "name": "stdout",
          "text": [
            "Primeramente podemos ver que no necesitamos declarar variables\n",
            "Ingrese numero uno 6\n",
            "Ingrese numero dos 7\n",
            "la suma es: 13\n",
            "el valor es: Cambio drastico\n"
          ]
        }
      ]
    },
    {
      "cell_type": "code",
      "source": [
        "print(\"tambien puedes cambiar el valor de las variables muy drasticamente\")\n",
        "suma = \"Este es un cambio drastrico\"\n",
        "print(f\"ahora ya no es un numero, ahora es un texto: {suma}\")\n"
      ],
      "metadata": {
        "colab": {
          "base_uri": "https://localhost:8080/"
        },
        "id": "hgYFjanfq9ro",
        "outputId": "055e13ea-08b9-4fda-f3d8-fbf845c907d6"
      },
      "execution_count": null,
      "outputs": [
        {
          "output_type": "stream",
          "name": "stdout",
          "text": [
            "tambien puedes cambiar el valor de las variables muy drasticamente\n",
            "ahora ya no es un numero, ahora es un texto: Este es un cambio drastrico\n"
          ]
        }
      ]
    },
    {
      "cell_type": "code",
      "source": [
        "#Esto es un comentario en nuestro código.\n",
        "print('Hola mundo')\n",
        "\n",
        "\"\"\"\n",
        "Este es un comentario de varias lineas\n",
        "Se pone usando tres pares comillas dobles.\n",
        "\"\"\"\n",
        "\n",
        "print(type('hola mundo'))"
      ],
      "metadata": {
        "colab": {
          "base_uri": "https://localhost:8080/"
        },
        "id": "LwERF_mVd2fE",
        "outputId": "b195da19-6784-4b7c-8963-fa34f5b3b0e0"
      },
      "execution_count": null,
      "outputs": [
        {
          "output_type": "stream",
          "name": "stdout",
          "text": [
            "Hola mundo\n",
            "<class 'str'>\n"
          ]
        }
      ]
    }
  ]
}