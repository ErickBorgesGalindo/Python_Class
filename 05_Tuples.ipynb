{
  "nbformat": 4,
  "nbformat_minor": 0,
  "metadata": {
    "colab": {
      "provenance": [],
      "authorship_tag": "ABX9TyMTnHowE7R06n25Cbcw39Lx",
      "include_colab_link": true
    },
    "kernelspec": {
      "name": "python3",
      "display_name": "Python 3"
    },
    "language_info": {
      "name": "python"
    }
  },
  "cells": [
    {
      "cell_type": "markdown",
      "metadata": {
        "id": "view-in-github",
        "colab_type": "text"
      },
      "source": [
        "<a href=\"https://colab.research.google.com/github/ErickBorgesGalindo/Python_Class/blob/main/05_Tuples.ipynb\" target=\"_parent\"><img src=\"https://colab.research.google.com/assets/colab-badge.svg\" alt=\"Open In Colab\"/></a>"
      ]
    },
    {
      "cell_type": "markdown",
      "source": [
        "<H1><b>Tuples</b></H1>\n",
        "Una tupla es un conjunto de valores"
      ],
      "metadata": {
        "id": "SPwmuqfur8eA"
      }
    },
    {
      "cell_type": "markdown",
      "source": [
        "<b>Declaración de una Tupla</b>"
      ],
      "metadata": {
        "id": "TB_ACNR8ueFW"
      }
    },
    {
      "cell_type": "code",
      "execution_count": null,
      "metadata": {
        "id": "k5nNs9Fbr4lR"
      },
      "outputs": [],
      "source": [
        "my_tuple = tuple()\n",
        "other_tuple = ()"
      ]
    },
    {
      "cell_type": "markdown",
      "source": [
        "<b>Llenar datos y verificar tipo</b>"
      ],
      "metadata": {
        "id": "MGliRMyuujgO"
      }
    },
    {
      "cell_type": "code",
      "source": [
        "my_tuple = (1, 2.5, 3, 'Erick', 'Borges', 'Aguilar', 'Morales','Borges')\n",
        "print(my_tuple)\n",
        "print(type(my_tuple))"
      ],
      "metadata": {
        "id": "bXJXtaqzsnSD"
      },
      "execution_count": null,
      "outputs": []
    },
    {
      "cell_type": "markdown",
      "source": [
        "<b>Contar posiciones</b>"
      ],
      "metadata": {
        "id": "7ohDDneOunx5"
      }
    },
    {
      "cell_type": "code",
      "source": [
        "print(my_tuple[0])\n",
        "print(my_tuple[-1])"
      ],
      "metadata": {
        "id": "iYSz5K2ps23z"
      },
      "execution_count": null,
      "outputs": []
    },
    {
      "cell_type": "markdown",
      "source": [
        "<b>Elementos repetidos</b>"
      ],
      "metadata": {
        "id": "8WuAhWDBuyXa"
      }
    },
    {
      "cell_type": "code",
      "source": [
        "print(my_tuple.count(\"Borges\"))"
      ],
      "metadata": {
        "id": "8k-ia-tqu2u4"
      },
      "execution_count": null,
      "outputs": []
    },
    {
      "cell_type": "markdown",
      "source": [
        "<b>Unir tuplas</b>"
      ],
      "metadata": {
        "id": "ljIx-1Lbvj1E"
      }
    },
    {
      "cell_type": "code",
      "source": [
        "tpl1 = ('item1', 'item2', 'item3')\n",
        "tpl2 = ('item4', 'item5','item6')\n",
        "tpl3 = tpl1 + tpl2\n",
        "\n",
        "print(tpl3)"
      ],
      "metadata": {
        "id": "cnNZH8cjvc3R"
      },
      "execution_count": null,
      "outputs": []
    },
    {
      "cell_type": "markdown",
      "source": [
        "<h1>¿Diferencias?</h1>\n",
        "* Nombre\n",
        "* Enlazador ()\n",
        "* "
      ],
      "metadata": {
        "id": "tsqQ5PbPtXRN"
      }
    },
    {
      "cell_type": "markdown",
      "source": [
        "<b>Insertar valores en una tupla</b>"
      ],
      "metadata": {
        "id": "xKGcII3txiHF"
      }
    },
    {
      "cell_type": "code",
      "source": [
        "frutas = ('banana', 'naranja', 'mango', 'limon')\n",
        "print(frutas)\n",
        "frutas.append('manzana')\n",
        "print(frutas)"
      ],
      "metadata": {
        "id": "tPZywLe3xTlU"
      },
      "execution_count": null,
      "outputs": []
    },
    {
      "cell_type": "code",
      "source": [
        "frutas = ('banana', 'naranja', 'mango', 'limon')\n",
        "print(frutas)\n",
        "frutas.insert(2, 'manzana')\n",
        "print(frutas)"
      ],
      "metadata": {
        "id": "y_0Yeu0ex2P6"
      },
      "execution_count": null,
      "outputs": []
    },
    {
      "cell_type": "markdown",
      "source": [
        "<b>Remover componentes</b>"
      ],
      "metadata": {
        "id": "YdjkMVgRx9FT"
      }
    },
    {
      "cell_type": "code",
      "source": [
        "frutas = ('banana', 'naranja', 'mango', 'limon', 'manzana', 'aguacate', 'manzana', 'Manzana' )\n",
        "print(frutas)\n",
        "frutas.remove('manzana')"
      ],
      "metadata": {
        "id": "oxQGi48QyA6X"
      },
      "execution_count": null,
      "outputs": []
    },
    {
      "cell_type": "markdown",
      "source": [
        "<h1><b>DEFINICIÓN</b></h1>"
      ],
      "metadata": {
        "id": "nnuMfLu8yfr_"
      }
    },
    {
      "cell_type": "markdown",
      "source": [
        "Una tupla es una coleccción de distintos tipos de datos cuyo orden es inmutable (no cambia). Se escriben entre parentésis y una vez que le asignamos valores estos ya no se pueden modificar."
      ],
      "metadata": {
        "id": "n8gxfgd_yOW8"
      }
    }
  ]
}