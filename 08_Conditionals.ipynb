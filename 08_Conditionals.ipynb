{
  "nbformat": 4,
  "nbformat_minor": 0,
  "metadata": {
    "colab": {
      "provenance": [],
      "authorship_tag": "ABX9TyN0TFF3QWNk7ZM3f3rttJJ/",
      "include_colab_link": true
    },
    "kernelspec": {
      "name": "python3",
      "display_name": "Python 3"
    },
    "language_info": {
      "name": "python"
    }
  },
  "cells": [
    {
      "cell_type": "markdown",
      "metadata": {
        "id": "view-in-github",
        "colab_type": "text"
      },
      "source": [
        "<a href=\"https://colab.research.google.com/github/ErickBorgesGalindo/Python_Class/blob/main/08_Conditionals.ipynb\" target=\"_parent\"><img src=\"https://colab.research.google.com/assets/colab-badge.svg\" alt=\"Open In Colab\"/></a>"
      ]
    },
    {
      "cell_type": "markdown",
      "source": [
        "<h1><b>Condicionales</b></h1>"
      ],
      "metadata": {
        "id": "grWLYBmyXJ_T"
      }
    },
    {
      "cell_type": "markdown",
      "source": [
        "<h2>Condicional <b>IF</b></h2>"
      ],
      "metadata": {
        "id": "qTkb64J9XWsT"
      }
    },
    {
      "cell_type": "code",
      "execution_count": null,
      "metadata": {
        "id": "SD2Pl7C7XGwZ"
      },
      "outputs": [],
      "source": [
        "#Sintaxis\n",
        "if condition:\n",
        "  aqui pones lo que ocurre si se cumple\n",
        "else:\n",
        "  aqui pones lo que ocurre si no se cumple"
      ]
    },
    {
      "cell_type": "code",
      "source": [
        "numero=int(input(\"Ingrese un número \"))\n",
        "\n",
        "if numero < 0:\n",
        "  print('El numero es negativo')\n",
        "else:\n",
        "  print('El numero es positivo')"
      ],
      "metadata": {
        "id": "AUSKDz6VXn6z"
      },
      "execution_count": null,
      "outputs": []
    },
    {
      "cell_type": "markdown",
      "source": [
        "<h2><b>IF ELIF ELSE</b></h2>\n",
        "Lo utilizamos para tomar decisiones basandonos en multiples *condiciones*"
      ],
      "metadata": {
        "id": "Hmuxxac2b-O0"
      }
    },
    {
      "cell_type": "code",
      "source": [
        "numero=int(input(\"Ingrese un número \"))\n",
        "\n",
        "if numero < 0:\n",
        "  print('El numero es negativo')\n",
        "elif numero > 0:\n",
        "  print('El numero es positivo')\n",
        "else:\n",
        "  print('El numero es 0')"
      ],
      "metadata": {
        "id": "D2qvW1GrcOK0"
      },
      "execution_count": null,
      "outputs": []
    },
    {
      "cell_type": "markdown",
      "source": [
        "<h2><b>Anidación</b></h2>\n"
      ],
      "metadata": {
        "id": "HjaNBqRkcaqP"
      }
    },
    {
      "cell_type": "code",
      "source": [
        "numero=int(input(\"Ingrese un número \"))\n",
        "if numero > 0:\n",
        "    if numero % 2 == 0:\n",
        "        print('El numero es positivo y par')\n",
        "    else:\n",
        "        print('El numero es positivo e impar')\n",
        "\n",
        "elif numero == 0:\n",
        "    print('El numero es cero')\n",
        "\n",
        "else:\n",
        "    print('El numero es negativo')"
      ],
      "metadata": {
        "id": "LHJ-KUtrcZD8"
      },
      "execution_count": null,
      "outputs": []
    },
    {
      "cell_type": "markdown",
      "source": [
        "<h2><b>Condicionales y operadores lógicos</b></h2>"
      ],
      "metadata": {
        "id": "C3US4mk4c6Fq"
      }
    },
    {
      "cell_type": "code",
      "source": [
        "numero=int(input(\"Ingrese un número \"))\n",
        "if numero > 0 and numero % 2 == 0: # &&\n",
        "        print('El numero es entero y par')\n",
        "        \n",
        "elif numero > 0 and numero % 2 !=  0:\n",
        "     print('El numero es positivo e impar')\n",
        "\n",
        "elif numero == 0:\n",
        "    print('El numero es cero')\n",
        "\n",
        "else:\n",
        "    print('El numero es negativo')"
      ],
      "metadata": {
        "id": "IxaZdC2mdDHW"
      },
      "execution_count": null,
      "outputs": []
    },
    {
      "cell_type": "code",
      "source": [
        "user = 'user'\n",
        "access_level = 4\n",
        "if user == 'admin' or access_level >= 4: # ||\n",
        "        print('¡Acceso concedido!')\n",
        "else:\n",
        "    print('¡Acceso denegado!')"
      ],
      "metadata": {
        "id": "mMFrD159diWu",
        "colab": {
          "base_uri": "https://localhost:8080/"
        },
        "outputId": "4a622be6-ebe8-4efb-8fcd-48b43e5e4c99"
      },
      "execution_count": null,
      "outputs": [
        {
          "output_type": "stream",
          "name": "stdout",
          "text": [
            "¡Acceso concedido!\n"
          ]
        }
      ]
    }
  ]
}